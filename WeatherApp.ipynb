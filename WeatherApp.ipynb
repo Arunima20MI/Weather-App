{
 "cells": [
  {
   "cell_type": "code",
   "execution_count": 2,
   "id": "b2964f83-aae3-4ce7-8e5d-34375729494c",
   "metadata": {},
   "outputs": [
    {
     "name": "stdout",
     "output_type": "stream",
     "text": [
      "Requirement already satisfied: geocoder in c:\\users\\kiit0001\\appdata\\local\\programs\\python\\python312\\lib\\site-packages (1.38.1)\n",
      "Requirement already satisfied: click in c:\\users\\kiit0001\\appdata\\local\\programs\\python\\python312\\lib\\site-packages (from geocoder) (8.1.7)\n",
      "Requirement already satisfied: future in c:\\users\\kiit0001\\appdata\\local\\programs\\python\\python312\\lib\\site-packages (from geocoder) (1.0.0)\n",
      "Requirement already satisfied: ratelim in c:\\users\\kiit0001\\appdata\\local\\programs\\python\\python312\\lib\\site-packages (from geocoder) (0.1.6)\n",
      "Requirement already satisfied: requests in c:\\users\\kiit0001\\appdata\\local\\programs\\python\\python312\\lib\\site-packages (from geocoder) (2.32.2)\n",
      "Requirement already satisfied: six in c:\\users\\kiit0001\\appdata\\local\\programs\\python\\python312\\lib\\site-packages (from geocoder) (1.16.0)\n",
      "Requirement already satisfied: colorama in c:\\users\\kiit0001\\appdata\\local\\programs\\python\\python312\\lib\\site-packages (from click->geocoder) (0.4.6)\n",
      "Requirement already satisfied: decorator in c:\\users\\kiit0001\\appdata\\local\\programs\\python\\python312\\lib\\site-packages (from ratelim->geocoder) (5.1.1)\n",
      "Requirement already satisfied: charset-normalizer<4,>=2 in c:\\users\\kiit0001\\appdata\\local\\programs\\python\\python312\\lib\\site-packages (from requests->geocoder) (3.3.2)\n",
      "Requirement already satisfied: idna<4,>=2.5 in c:\\users\\kiit0001\\appdata\\local\\programs\\python\\python312\\lib\\site-packages (from requests->geocoder) (3.7)\n",
      "Requirement already satisfied: urllib3<3,>=1.21.1 in c:\\users\\kiit0001\\appdata\\local\\programs\\python\\python312\\lib\\site-packages (from requests->geocoder) (2.2.1)\n",
      "Requirement already satisfied: certifi>=2017.4.17 in c:\\users\\kiit0001\\appdata\\local\\programs\\python\\python312\\lib\\site-packages (from requests->geocoder) (2024.2.2)\n"
     ]
    }
   ],
   "source": [
    "!pip install geocoder\n"
   ]
  },
  {
   "cell_type": "code",
   "execution_count": 8,
   "id": "92d49674-46fe-4e1d-a905-7b856c9d1075",
   "metadata": {},
   "outputs": [
    {
     "name": "stdout",
     "output_type": "stream",
     "text": [
      "[DEBUG] API Response: {'coord': {'lon': 86.9833, 'lat': 23.6833}, 'weather': [{'id': 802, 'main': 'Clouds', 'description': 'scattered clouds', 'icon': '03d'}], 'base': 'stations', 'main': {'temp': 35.33, 'feels_like': 37.53, 'temp_min': 35.33, 'temp_max': 35.33, 'pressure': 1007, 'humidity': 39, 'sea_level': 1007, 'grnd_level': 993}, 'visibility': 10000, 'wind': {'speed': 1.52, 'deg': 338, 'gust': 1.79}, 'clouds': {'all': 31}, 'dt': 1749184449, 'sys': {'country': 'IN', 'sunrise': 1749165881, 'sunset': 1749214623}, 'timezone': 19800, 'id': 1278314, 'name': 'Asansol', 'cod': 200}\n",
      "[DEBUG] API Response: {'coord': {'lon': 88.3697, 'lat': 22.5697}, 'weather': [{'id': 804, 'main': 'Clouds', 'description': 'overcast clouds', 'icon': '04d'}], 'base': 'stations', 'main': {'temp': 32.64, 'feels_like': 37.32, 'temp_min': 32.64, 'temp_max': 32.64, 'pressure': 1007, 'humidity': 56, 'sea_level': 1007, 'grnd_level': 1006}, 'visibility': 10000, 'wind': {'speed': 2.8, 'deg': 174, 'gust': 2.65}, 'clouds': {'all': 93}, 'dt': 1749184343, 'sys': {'country': 'IN', 'sunrise': 1749165685, 'sunset': 1749214153}, 'timezone': 19800, 'id': 1275004, 'name': 'Kolkata', 'cod': 200}\n",
      "[DEBUG] API Response: {'coord': {'lon': 77.2167, 'lat': 28.6667}, 'weather': [{'id': 800, 'main': 'Clear', 'description': 'clear sky', 'icon': '01d'}], 'base': 'stations', 'main': {'temp': 34.21, 'feels_like': 34.58, 'temp_min': 34.21, 'temp_max': 34.21, 'pressure': 1007, 'humidity': 35, 'sea_level': 1007, 'grnd_level': 981}, 'visibility': 10000, 'wind': {'speed': 2.05, 'deg': 234, 'gust': 2.85}, 'clouds': {'all': 0}, 'dt': 1749184634, 'sys': {'country': 'IN', 'sunrise': 1749167578, 'sunset': 1749217614}, 'timezone': 19800, 'id': 1273294, 'name': 'Delhi', 'cod': 200}\n",
      "[DEBUG] API Response: {'coord': {'lon': 77.6033, 'lat': 12.9762}, 'weather': [{'id': 803, 'main': 'Clouds', 'description': 'broken clouds', 'icon': '04d'}], 'base': 'stations', 'main': {'temp': 27.28, 'feels_like': 28.12, 'temp_min': 27.28, 'temp_max': 27.28, 'pressure': 1013, 'humidity': 56, 'sea_level': 1013, 'grnd_level': 915}, 'visibility': 10000, 'wind': {'speed': 3.95, 'deg': 298, 'gust': 3.85}, 'clouds': {'all': 54}, 'dt': 1749184823, 'sys': {'country': 'IN', 'sunrise': 1749169356, 'sunset': 1749215650}, 'timezone': 19800, 'id': 1277333, 'name': 'Bengaluru', 'cod': 200}\n",
      "[DEBUG] API Response: {'coord': {'lon': 84.4167, 'lat': 20.5}, 'weather': [{'id': 800, 'main': 'Clear', 'description': 'clear sky', 'icon': '01d'}], 'base': 'stations', 'main': {'temp': 36.58, 'feels_like': 37.64, 'temp_min': 36.58, 'temp_max': 36.58, 'pressure': 1008, 'humidity': 32, 'sea_level': 1008, 'grnd_level': 961}, 'visibility': 10000, 'wind': {'speed': 1.1, 'deg': 3, 'gust': 2.69}, 'clouds': {'all': 5}, 'dt': 1749184970, 'sys': {'country': 'IN', 'sunrise': 1749166880, 'sunset': 1749214855}, 'timezone': 19800, 'id': 1261029, 'name': 'Odisha', 'cod': 200}\n",
      "[DEBUG] Detected city: Durgapur\n",
      "[DEBUG] API Response: {'coord': {'lon': 87.3167, 'lat': 23.4833}, 'weather': [{'id': 801, 'main': 'Clouds', 'description': 'few clouds', 'icon': '02d'}], 'base': 'stations', 'main': {'temp': 37.1, 'feels_like': 38.85, 'temp_min': 37.1, 'temp_max': 37.1, 'pressure': 1006, 'humidity': 33, 'sea_level': 1006, 'grnd_level': 996}, 'visibility': 10000, 'wind': {'speed': 2.79, 'deg': 331, 'gust': 2.44}, 'clouds': {'all': 13}, 'dt': 1749190126, 'sys': {'country': 'IN', 'sunrise': 1749165826, 'sunset': 1749214518}, 'timezone': 19800, 'id': 1272175, 'name': 'Durgapur', 'cod': 200}\n",
      "[DEBUG] Detected city: Durgapur\n",
      "[DEBUG] API Response: {'coord': {'lon': 87.3167, 'lat': 23.4833}, 'weather': [{'id': 801, 'main': 'Clouds', 'description': 'few clouds', 'icon': '02d'}], 'base': 'stations', 'main': {'temp': 37.1, 'feels_like': 38.85, 'temp_min': 37.1, 'temp_max': 37.1, 'pressure': 1006, 'humidity': 33, 'sea_level': 1006, 'grnd_level': 996}, 'visibility': 10000, 'wind': {'speed': 2.79, 'deg': 331, 'gust': 2.44}, 'clouds': {'all': 13}, 'dt': 1749190126, 'sys': {'country': 'IN', 'sunrise': 1749165826, 'sunset': 1749214518}, 'timezone': 19800, 'id': 1272175, 'name': 'Durgapur', 'cod': 200}\n",
      "[DEBUG] API Response: {'cod': '404', 'message': 'city not found'}\n",
      "[ERROR] API returned: city not found\n",
      "[DEBUG] API Response: {'coord': {'lon': 88.3103, 'lat': 22.5892}, 'weather': [{'id': 802, 'main': 'Clouds', 'description': 'scattered clouds', 'icon': '03d'}], 'base': 'stations', 'main': {'temp': 35.28, 'feels_like': 39.43, 'temp_min': 35.28, 'temp_max': 35.28, 'pressure': 1006, 'humidity': 45, 'sea_level': 1006, 'grnd_level': 1005}, 'visibility': 10000, 'wind': {'speed': 2.18, 'deg': 238, 'gust': 2.54}, 'clouds': {'all': 27}, 'dt': 1749190142, 'sys': {'country': 'IN', 'sunrise': 1749165697, 'sunset': 1749214170}, 'timezone': 19800, 'id': 1270396, 'name': 'Howrah', 'cod': 200}\n"
     ]
    }
   ],
   "source": [
    "import tkinter as tk\n",
    "from tkinter import messagebox\n",
    "import requests\n",
    "import geocoder\n",
    "import datetime\n",
    "\n",
    "API_KEY = \"267f4f1f49933418a86dfe3b3bfa1eaa\"  # Replace with your actual API key\n",
    "\n",
    "def get_location():\n",
    "    try:\n",
    "        g = geocoder.ip('me')\n",
    "        print(f\"[DEBUG] Detected city: {g.city}\")\n",
    "        return g.city\n",
    "    except:\n",
    "        print(\"[DEBUG] Geolocation failed\")\n",
    "        return None\n",
    "\n",
    "def get_weather(city):\n",
    "    # Append ',IN' to help OpenWeatherMap identify Indian cities\n",
    "    city_query = f\"{city},IN\"\n",
    "    url = f\"http://api.openweathermap.org/data/2.5/weather?q={city_query}&appid={API_KEY}&units=metric\"\n",
    "\n",
    "    try:\n",
    "        response = requests.get(url)\n",
    "        data = response.json()\n",
    "        print(\"[DEBUG] API Response:\", data)  # Debug output\n",
    "\n",
    "        if data.get(\"cod\") != 200:\n",
    "            print(f\"[ERROR] API returned: {data.get('message')}\")\n",
    "            return None\n",
    "\n",
    "        weather = {\n",
    "            \"city\": data[\"name\"],\n",
    "            \"temperature\": data[\"main\"][\"temp\"],\n",
    "            \"description\": data[\"weather\"][0][\"description\"].title(),\n",
    "            \"humidity\": data[\"main\"][\"humidity\"],\n",
    "            \"wind_speed\": data[\"wind\"][\"speed\"]\n",
    "        }\n",
    "        log_weather_request(city, weather)\n",
    "        return weather\n",
    "    except Exception as e:\n",
    "        print(f\"[ERROR] Exception in get_weather: {e}\")\n",
    "        return None\n",
    "\n",
    "def display_weather():\n",
    "    city = city_entry.get().strip()\n",
    "    if not city:\n",
    "        city = get_location()\n",
    "\n",
    "    if not city:\n",
    "        messagebox.showerror(\"Error\", \"Unable to detect location. Please enter a city name.\")\n",
    "        return\n",
    "\n",
    "    weather = get_weather(city)\n",
    "    if weather:\n",
    "        result_text.set(\n",
    "            f\"📍 Location: {weather['city']}\\n\"\n",
    "            f\"🌡️ Temperature: {weather['temperature']} °C\\n\"\n",
    "            f\"🌤️ Weather: {weather['description']}\\n\"\n",
    "            f\"💧 Humidity: {weather['humidity']}%\\n\"\n",
    "            f\"🌬️ Wind Speed: {weather['wind_speed']} m/s\"\n",
    "        )\n",
    "    else:\n",
    "        result_text.set(\"❌ Failed to retrieve weather data.\\nPlease check your city name or connection.\")\n",
    "\n",
    "def log_weather_request(city, weather):\n",
    "    with open(\"weather_log.txt\", \"a\") as file:\n",
    "        file.write(f\"{datetime.datetime.now()} | {city} | {weather['temperature']}°C | {weather['description']}\\n\")\n",
    "\n",
    "# GUI setup\n",
    "root = tk.Tk()\n",
    "root.title(\"Weather Forecast App\")\n",
    "root.geometry(\"400x350\")\n",
    "root.resizable(False, False)\n",
    "\n",
    "tk.Label(root, text=\"Weather Forecast\", font=(\"Helvetica\", 18, \"bold\")).pack(pady=10)\n",
    "tk.Label(root, text=\"Enter city or leave blank to auto-detect:\").pack()\n",
    "\n",
    "city_entry = tk.Entry(root, font=(\"Helvetica\", 14), justify=\"center\")\n",
    "city_entry.pack(pady=5)\n",
    "\n",
    "tk.Button(root, text=\"Get Weather\", font=(\"Helvetica\", 12), command=display_weather).pack(pady=10)\n",
    "\n",
    "result_text = tk.StringVar()\n",
    "tk.Label(root, textvariable=result_text, font=(\"Helvetica\", 12), justify=\"left\").pack(pady=20)\n",
    "\n",
    "root.mainloop()\n"
   ]
  },
  {
   "cell_type": "code",
   "execution_count": null,
   "id": "36b59f20-f7f0-4efa-9bbd-180c75e8bace",
   "metadata": {},
   "outputs": [],
   "source": []
  },
  {
   "cell_type": "code",
   "execution_count": null,
   "id": "b5e69c40-b3e1-4b32-b233-c546a9141da5",
   "metadata": {},
   "outputs": [],
   "source": []
  }
 ],
 "metadata": {
  "kernelspec": {
   "display_name": "Python 3 (ipykernel)",
   "language": "python",
   "name": "python3"
  },
  "language_info": {
   "codemirror_mode": {
    "name": "ipython",
    "version": 3
   },
   "file_extension": ".py",
   "mimetype": "text/x-python",
   "name": "python",
   "nbconvert_exporter": "python",
   "pygments_lexer": "ipython3",
   "version": "3.12.3"
  }
 },
 "nbformat": 4,
 "nbformat_minor": 5
}
